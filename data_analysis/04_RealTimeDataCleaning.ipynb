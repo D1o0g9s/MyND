{
 "cells": [
  {
   "cell_type": "code",
   "execution_count": 1,
   "metadata": {},
   "outputs": [],
   "source": [
    "import sys, pathlib\n",
    "sys.path.insert(0, str(pathlib.Path().absolute().parent))\n",
    "\n",
    "from helper_scripts.helperFunctions import *\n",
    "from helper_scripts.constants import *\n",
    "from helper_scripts.dataAnalysisFunctions import getSEM, getCleanedSignal\n",
    "import pandas as pd"
   ]
  },
  {
   "cell_type": "code",
   "execution_count": 2,
   "metadata": {},
   "outputs": [],
   "source": [
    "def loadData(datatype='filtered_cleaned_data', foldername=None, filename=None):\n",
    "    # Get the most currently updated foldername and filename if they don't already exist. \n",
    "    if foldername is None or filename is None:\n",
    "        filename_foldername_dict_path = \"../data/most_currently_updated.pickle\"\n",
    "        filename_foldername_dict = loadPickle(filename_foldername_dict_path)\n",
    "        \n",
    "        if foldername is None :\n",
    "            foldername=filename_foldername_dict[\"foldername\"]\n",
    "        if filename is None :\n",
    "            filename=filename_foldername_dict[\"filename\"]\n",
    "    \n",
    "    print(foldername, filename)\n",
    "\n",
    "    data_directory = '../data/' + datatype + '/' + foldername + \"/\"\n",
    "    data_path = data_directory + filename + \".pickle\"\n",
    "    data = loadPickle(data_path)\n",
    "    return data"
   ]
  },
  {
   "cell_type": "code",
   "execution_count": 3,
   "metadata": {},
   "outputs": [
    {
     "name": "stdout",
     "output_type": "stream",
     "text": [
      "P006 part_P006_exp001_block_long\n",
      "P006 part_P006_exp001_block_long\n"
     ]
    }
   ],
   "source": [
    "foldername='P006'\n",
    "filename='part_P006_exp001_block_long'\n",
    "filtered_data = loadData(datatype='filtered_data', foldername=foldername, filename=filename)\n",
    "filtered_cleaned_data = loadData(datatype='filtered_cleaned_data', foldername=foldername, filename=filename)"
   ]
  },
  {
   "cell_type": "code",
   "execution_count": 4,
   "metadata": {},
   "outputs": [],
   "source": [
    "some_data = getTimeBoundSingleLabelData('newWord', filtered_data)\n",
    "some_cleaned_data = getTimeBoundSingleLabelData('newWord', filtered_cleaned_data)"
   ]
  },
  {
   "cell_type": "code",
   "execution_count": 5,
   "metadata": {},
   "outputs": [
    {
     "data": {
      "text/plain": [
       "[]"
      ]
     },
     "execution_count": 5,
     "metadata": {},
     "output_type": "execute_result"
    }
   ],
   "source": [
    "word_num = 55\n",
    "data = some_data[0][word_num]\n",
    "plt.plot(data[StreamType.EEG.value][StreamType.DATA.value][:,channels['VEOG']], label='VEOG')\n",
    "plt.plot(data[StreamType.EEG.value][StreamType.DATA.value][:,channels['HEOG']], label='HEOG')\n",
    "plt.plot(data[StreamType.EEG.value][StreamType.DATA.value][:,channels['left_eeg']], label='left eeg')\n",
    "plt.plot(data[StreamType.EEG.value][StreamType.DATA.value][:,channels['right_eeg']], label='right eeg')\n",
    "\n",
    "plt.legend()\n",
    "plt.plot()"
   ]
  },
  {
   "cell_type": "code",
   "execution_count": null,
   "metadata": {},
   "outputs": [],
   "source": [
    "cleaned_data = getCleanedSignal(data)\n",
    "\n",
    "plt.plot(cleaned_data[StreamType.EEG.value][StreamType.DATA.value][:,channels['VEOG']], label='VEOG, cleaned')\n",
    "plt.plot(cleaned_data[StreamType.EEG.value][StreamType.DATA.value][:,channels['HEOG']], label='HEOG, cleaned')\n",
    "plt.plot(cleaned_data[StreamType.EEG.value][StreamType.DATA.value][:,channels['left_eeg']], label='left eeg, cleaned')\n",
    "plt.plot(cleaned_data[StreamType.EEG.value][StreamType.DATA.value][:,channels['right_eeg']], label='right eeg, cleaned')\n",
    "\n",
    "plt.legend()\n",
    "plt.plot()"
   ]
  },
  {
   "cell_type": "code",
   "execution_count": null,
   "metadata": {},
   "outputs": [],
   "source": []
  }
 ],
 "metadata": {
  "kernelspec": {
   "display_name": "Python 3",
   "language": "python",
   "name": "python3"
  },
  "language_info": {
   "codemirror_mode": {
    "name": "ipython",
    "version": 3
   },
   "file_extension": ".py",
   "mimetype": "text/x-python",
   "name": "python",
   "nbconvert_exporter": "python",
   "pygments_lexer": "ipython3",
   "version": "3.6.8"
  }
 },
 "nbformat": 4,
 "nbformat_minor": 2
}
