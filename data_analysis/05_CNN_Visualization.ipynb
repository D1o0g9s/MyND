{
 "cells": [
  {
   "cell_type": "code",
   "execution_count": 2,
   "metadata": {},
   "outputs": [],
   "source": [
    "%matplotlib inline\n",
    "from helperFunctions import *\n",
    "from constants import *\n",
    "from dataAnalysisFunctions import getSEM, getCleanedSignal, getIntervals, getPowerRatio\n",
    "import pandas as pd\n",
    "\n",
    "from featureBuilder import featureBuilder\n",
    "\n",
    "import warnings\n",
    "warnings.filterwarnings(\"ignore\")"
   ]
  },
  {
   "cell_type": "code",
   "execution_count": 3,
   "metadata": {},
   "outputs": [],
   "source": [
    "from sklearn.preprocessing import MinMaxScaler\n",
    "from sklearn.model_selection import train_test_split\n",
    "from sklearn.discriminant_analysis import LinearDiscriminantAnalysis\n",
    "from sklearn.ensemble import RandomForestClassifier\n",
    "from sklearn.metrics import confusion_matrix\n",
    "from sklearn.metrics import accuracy_score\n",
    "\n",
    "#Import svm model\n",
    "from sklearn import svm\n"
   ]
  },
  {
   "cell_type": "code",
   "execution_count": 1,
   "metadata": {},
   "outputs": [],
   "source": [
    "import torch \n",
    "model = torch.load(\"models/model_t_combined_trimmed_filtered_3class.pickle\")"
   ]
  },
  {
   "cell_type": "markdown",
   "metadata": {},
   "source": [
    "## Build dataframes and variables needed"
   ]
  },
  {
   "cell_type": "code",
   "execution_count": null,
   "metadata": {},
   "outputs": [],
   "source": []
  },
  {
   "cell_type": "code",
   "execution_count": 3,
   "metadata": {},
   "outputs": [],
   "source": [
    "# Load datas and concat into one dataframe \n",
    "# Load dataset 1\n",
    "foldername='P001'\n",
    "filename='part_P001_block_S004'\n",
    "#filtered_data = loadData(datatype='filtered_data', foldername=foldername, filename=filename)\n",
    "#filtered_cleaned_data = loadData(datatype='filtered_cleaned_data', foldername=foldername, filename=filename)\n",
    "df1 = loadData(datatype='dataframe', foldername=foldername, filename=filename)\n",
    "\n",
    "# Load dataset 2\n",
    "foldername='P001'\n",
    "filename='part_P001_block_S005'\n",
    "df2 = loadData(datatype='dataframe', foldername=foldername, filename=filename)\n",
    "\n",
    "df = pd.concat([df1, df2], ignore_index=True)"
   ]
  },
  {
   "cell_type": "code",
   "execution_count": 4,
   "metadata": {},
   "outputs": [
    {
     "name": "stdout",
     "output_type": "stream",
     "text": [
      "focused len: 420 unfocused len: 420\n"
     ]
    }
   ],
   "source": [
    "# Select the trials needed to classify\n",
    "focused_state = df[\"trial_time\"] == 0.7\n",
    "unfocused_state = df[\"trial_time\"] > 0.9\n",
    "\n",
    "focused_df = df[focused_state]\n",
    "unfocused_df = df[unfocused_state]\n",
    "\n",
    "num_to_keep = min(len(focused_df), len(unfocused_df))\n",
    "\n",
    "focused_df = focused_df.drop(focused_df.sample(len(focused_df) - num_to_keep).index)\n",
    "unfocused_df = unfocused_df.drop(unfocused_df.sample(len(unfocused_df) - num_to_keep).index)\n",
    "\n",
    "print(\"focused len:\", len(focused_df), \"unfocused len:\", len(unfocused_df))\n"
   ]
  },
  {
   "cell_type": "code",
   "execution_count": 5,
   "metadata": {},
   "outputs": [
    {
     "data": {
      "text/plain": [
       "840"
      ]
     },
     "execution_count": 5,
     "metadata": {},
     "output_type": "execute_result"
    }
   ],
   "source": [
    "# Create the dataframes\n",
    "fb = featureBuilder()\n",
    "dictionary = {}\n",
    "for row_index,row in focused_df.iterrows():\n",
    "    dictionary = fb.appendDataToDict(row[\"data_extended\"], focused=2, dictionary=dictionary)\n",
    "for row_index,row in unfocused_df.iterrows():\n",
    "    dictionary = fb.appendDataToDict(row[\"data_extended\"], focused=0, dictionary=dictionary)\n",
    "# for row_index,row in med_df.iterrows():\n",
    "#     dictionary = fb.appendDataToDict(row[\"data_extended\"], focused=1, dictionary=dictionary)\n",
    "\n",
    "feature_df = pd.DataFrame(dictionary)\n",
    "len(feature_df)"
   ]
  },
  {
   "cell_type": "code",
   "execution_count": 6,
   "metadata": {},
   "outputs": [],
   "source": [
    "# Needed for visualizing LDA components\n",
    "colors=['blue', 'orange', 'green']\n",
    "class_names=[\"unfocused\", \"mid_focused\", \"focused\"]"
   ]
  },
  {
   "cell_type": "markdown",
   "metadata": {},
   "source": [
    "## LDA using sklearn 1 dim (2 possible outputs)\n",
    "https://stackabuse.com/implementing-lda-in-python-with-scikit-learn/"
   ]
  },
  {
   "cell_type": "code",
   "execution_count": 7,
   "metadata": {},
   "outputs": [
    {
     "name": "stdout",
     "output_type": "stream",
     "text": [
      "Accuracy 0.6547619047619048\n",
      "Accuracy 0.7321428571428571\n",
      "Accuracy 0.6845238095238095\n",
      "Accuracy 0.6369047619047619\n",
      "Accuracy 0.6488095238095238\n",
      "Accuracy 0.6369047619047619\n",
      "Accuracy 0.6428571428571429\n",
      "Accuracy 0.625\n",
      "Accuracy 0.7023809523809523\n",
      "Accuracy 0.6488095238095238\n",
      "Avg LDA + Random Forest accuracy: 0.6613095238095237\n"
     ]
    }
   ],
   "source": [
    "# Average the accuracy over X different random samples\n",
    "accuracies = []\n",
    "for rand_state_var in range(10): \n",
    "    # Split data\n",
    "    X_train, X_test, y_train, y_test = train_test_split(feature_df.drop(columns=[\"focused\"]), feature_df[\"focused\"], test_size=0.2, random_state=rand_state_var)\n",
    "\n",
    "    lda = LinearDiscriminantAnalysis(n_components=1)\n",
    "    features_wo_output = feature_df.drop(columns=[\"focused\"])\n",
    "    X_train, scaler = scaleData(X_train, X_train.columns.values) # Scaling doesn't change anything\n",
    "    X_test = scaler.transform(X_test)\n",
    "    X_train = lda.fit_transform(X_train, y_train)\n",
    "    X_test = lda.transform(X_test)\n",
    "\n",
    "\n",
    "    ## Classify using random forest classifier\n",
    "    classifier = RandomForestClassifier(max_depth=2, random_state=0)\n",
    "\n",
    "    classifier.fit(X_train, y_train)\n",
    "    y_pred = classifier.predict(X_test)\n",
    "\n",
    "    # Report accuracy\n",
    "    #cm = confusion_matrix(y_test, y_pred)\n",
    "    #print(cm)\n",
    "    print('Accuracy', str(accuracy_score(y_test, y_pred)))\n",
    "    accuracies.append(accuracy_score(y_test, y_pred))\n",
    "print(\"Avg LDA + Random Forest accuracy:\", np.mean(np.array(accuracies)))"
   ]
  },
  {
   "cell_type": "markdown",
   "metadata": {},
   "source": [
    "## LDA w/ SVM Classifier\n",
    "https://www.datacamp.com/community/tutorials/svm-classification-scikit-learn-python"
   ]
  },
  {
   "cell_type": "code",
   "execution_count": 8,
   "metadata": {},
   "outputs": [
    {
     "name": "stdout",
     "output_type": "stream",
     "text": [
      "Accuracy 0.6428571428571429\n",
      "Accuracy 0.7023809523809523\n",
      "Accuracy 0.6785714285714286\n",
      "Accuracy 0.6547619047619048\n",
      "Accuracy 0.6547619047619048\n",
      "Accuracy 0.6130952380952381\n",
      "Accuracy 0.6488095238095238\n",
      "Accuracy 0.6071428571428571\n",
      "Accuracy 0.7321428571428571\n",
      "Accuracy 0.6190476190476191\n",
      "Avg LDA + SVM accuracy: 0.6553571428571429\n"
     ]
    }
   ],
   "source": [
    "# Average the accuracy over X different random samples\n",
    "accuracies = []\n",
    "for rand_state_var in range(10): \n",
    "    # Split data\n",
    "    X_train, X_test, y_train, y_test = train_test_split(feature_df.drop(columns=[\"focused\"]), feature_df[\"focused\"], test_size=0.2, random_state=rand_state_var)\n",
    "\n",
    "    lda = LinearDiscriminantAnalysis(n_components=1)\n",
    "    features_wo_output = feature_df.drop(columns=[\"focused\"])\n",
    "    X_train, scaler = scaleData(X_train, X_train.columns.values) # Scaling doesn't change anything\n",
    "    X_test = scaler.transform(X_test)\n",
    "    X_train = lda.fit_transform(X_train, y_train)\n",
    "    X_test = lda.transform(X_test)\n",
    "\n",
    "\n",
    "    ## Classify using SVM\n",
    "    #Create a svm Classifier\n",
    "    clf = svm.SVC(kernel='linear') # Linear Kernel\n",
    "\n",
    "    #Train the model using the training sets\n",
    "    clf.fit(X_train, y_train)\n",
    "\n",
    "    #Predict the response for test dataset\n",
    "    y_pred = clf.predict(X_test)\n",
    "\n",
    "    # Report accuracy\n",
    "    #cm = confusion_matrix(y_test, y_pred)\n",
    "    #print(cm)\n",
    "    print('Accuracy', str(accuracy_score(y_test, y_pred)))\n",
    "    accuracies.append(accuracy_score(y_test, y_pred))\n",
    "print(\"Avg LDA + SVM accuracy:\", np.mean(np.array(accuracies)))"
   ]
  },
  {
   "cell_type": "code",
   "execution_count": 9,
   "metadata": {},
   "outputs": [
    {
     "data": {
      "text/plain": [
       "[(-105.31801068131631, 'average norm_mean_first_difference'),\n",
       " (-61.562905540978235, 'right norm_mean_second_difference'),\n",
       " (-43.0219075725154, 'left norm_mean_second_difference'),\n",
       " (-15.88800525186798, 'left std_voltage'),\n",
       " (-14.499482820332535, 'right std_voltage'),\n",
       " (-9.642850611865999, 'left_minus_right mean_second_difference'),\n",
       " (-9.194611541857569, 'left mean_second_difference'),\n",
       " (-7.655101986878625, 'beta average'),\n",
       " (-6.459399420311664, 'average mean_second_difference'),\n",
       " (-4.445081686787261, 'alpha average_power'),\n",
       " (-4.281657380010008, 'alpha left'),\n",
       " (-3.6163625729181206, 'alpha right'),\n",
       " (-2.266209211900748, 'right mean_second_difference'),\n",
       " (-2.2131109379150136, 'delta average'),\n",
       " (-2.152359798036299, 'beta left_minus_right'),\n",
       " (-1.7945167603092536, 'theta left'),\n",
       " (-1.6378760883933294, 'theta average_power'),\n",
       " (-1.5493752970840868, 'alpha left_minus_right_power'),\n",
       " (-1.0498121293209908, 'left_minus_right norm_mean_second_difference'),\n",
       " (-1.0481574768808049, 'theta right'),\n",
       " (-0.9496888483202923, 'theta left_minus_right_power'),\n",
       " (-0.48273519517709007, 'theta left_minus_right'),\n",
       " (-0.31983293463798124, 'delta left_minus_right_power'),\n",
       " (0.23391987591069124, 'delta left'),\n",
       " (0.283336171971917, 'right average_voltage'),\n",
       " (0.33117822777540873, 'alpha/beta left'),\n",
       " (0.33117822777555594, 'alpha/beta right'),\n",
       " (0.3311782277755705, 'alpha/beta left_minus_right'),\n",
       " (0.33117822777559836, 'alpha/beta average'),\n",
       " (0.35798606163599045, 'delta average_power'),\n",
       " (0.3950369615332592, 'delta right'),\n",
       " (0.5626484828106837, 'theta/alpha left'),\n",
       " (0.5626484828107672, 'theta/alpha right'),\n",
       " (0.5626484828108276, 'theta/alpha average'),\n",
       " (0.5626484828108276, 'theta/alpha left_minus_right'),\n",
       " (0.5646265487591713, 'delta/beta left_minus_right'),\n",
       " (0.5646265487593156, 'delta/beta right'),\n",
       " (0.5646265487595725, 'delta/beta average'),\n",
       " (0.5646265487598339, 'delta/beta left'),\n",
       " (0.6859077093868579, 'theta average'),\n",
       " (0.6923471488503983, 'average average_voltage'),\n",
       " (0.9163699323322232, 'left_minus_right std_voltage'),\n",
       " (1.0199297115243666, 'left average_voltage'),\n",
       " (1.1268605735716664, 'theta/beta left'),\n",
       " (1.1268605735719837, 'theta/beta right'),\n",
       " (1.12686057357258, 'theta/beta left_minus_right'),\n",
       " (1.1268605735729937, 'theta/beta average'),\n",
       " (1.7624920415996859, 'left_minus_right norm_mean_first_difference'),\n",
       " (1.8627443627856572, 'left_minus_right average_voltage'),\n",
       " (1.905600089742951, 'right mean_first_difference'),\n",
       " (2.1267476670162346, 'delta left_minus_right'),\n",
       " (2.2202454991886738, 'beta left_minus_right_power'),\n",
       " (2.695340317413886, 'alpha left_minus_right'),\n",
       " (2.9177728876493045, 'beta right'),\n",
       " (3.942664641975724, 'beta average_power'),\n",
       " (4.186383196696543, 'beta left'),\n",
       " (6.704693686079354, 'average mean_first_difference'),\n",
       " (9.971013273058013, 'alpha average'),\n",
       " (10.072718576423622, 'left mean_first_difference'),\n",
       " (10.85309941494237, 'left_minus_right mean_first_difference'),\n",
       " (16.860121114354833, 'average std_voltage'),\n",
       " (44.51314376613373, 'left norm_mean_first_difference'),\n",
       " (70.28191651693481, 'right norm_mean_first_difference'),\n",
       " (93.08762295075377, 'average norm_mean_second_difference')]"
      ]
     },
     "execution_count": 9,
     "metadata": {},
     "output_type": "execute_result"
    }
   ],
   "source": [
    "zipped_list = list(zip(lda.coef_[0], feature_df.drop(columns=\"focused\").columns))\n",
    "sorted_zip_list = sorted(zipped_list)\n",
    "sorted_zip_list"
   ]
  },
  {
   "cell_type": "code",
   "execution_count": 10,
   "metadata": {},
   "outputs": [
    {
     "name": "stdout",
     "output_type": "stream",
     "text": [
      "LDA explained variance: [1.]\n"
     ]
    },
    {
     "data": {
      "image/png": "[encoded data removed]",
      "text/plain": [
       "<Figure size 432x288 with 1 Axes>"
      ]
     },
     "metadata": {
      "needs_background": "light"
     },
     "output_type": "display_data"
    }
   ],
   "source": [
    "# Visualize LDA model \n",
    "print(\"LDA explained variance:\", lda.explained_variance_ratio_)\n",
    "\n",
    "# Create dataframe for the feature\n",
    "lda_feature_df = pd.DataFrame(X_train, columns=['LDA 1'])\n",
    "lda_feature_df['focused']=y_train.values\n",
    "\n",
    "# Plot groups wrt LDA 1 dimension\n",
    "\n",
    "for class_name, df in lda_feature_df.groupby('focused'): \n",
    "    plt.hist(df['LDA 1'].values, alpha=0.5, label=class_name)\n",
    "\n",
    "plt.xlabel('LD1')\n",
    "plt.ylabel(\"count\")\n",
    "plt.title(\"Distribution of unfocused (0) vs focused (2)\")    \n",
    "plt.legend()\n",
    "plt.show()"
   ]
  },
  {
   "cell_type": "markdown",
   "metadata": {},
   "source": [
    "## LDA manual"
   ]
  },
  {
   "cell_type": "code",
   "execution_count": null,
   "metadata": {},
   "outputs": [],
   "source": [
    "class_feature_means = pd.DataFrame(columns=[False,True])\n",
    "for class_name, rows in feature_df.groupby('focused'):\n",
    "    class_feature_means[class_name] = rows.mean()\n",
    "    \n",
    "class_feature_means = class_feature_means.drop(['focused'])"
   ]
  },
  {
   "cell_type": "code",
   "execution_count": null,
   "metadata": {},
   "outputs": [],
   "source": [
    "num_features = len(class_feature_means)\n",
    "within_class_scatter_matrix = np.zeros((num_features, num_features))\n",
    "for c,rows in feature_df.groupby('focused'):\n",
    "    rows=rows.drop(columns=['focused'])\n",
    "    s = np.zeros((num_features, num_features))\n",
    "    for index, row in rows.iterrows():\n",
    "        x, mc = row.values.reshape(num_features, 1), class_feature_means[c].values.reshape(num_features, 1)\n",
    "        s += (x-mc).dot((x-mc).T)\n",
    "    within_class_scatter_matrix += s\n"
   ]
  },
  {
   "cell_type": "code",
   "execution_count": null,
   "metadata": {},
   "outputs": [],
   "source": [
    "feature_means = feature_df.mean().drop(['focused'])\n",
    "between_class_scatter_matrix = np.zeros((num_features, num_features))\n",
    "for c,rows in feature_df.groupby('focused'):\n",
    "    rows=rows.drop(columns=['focused'])\n",
    "    n = len(rows)\n",
    "    mc, m = class_feature_means[c].values.reshape(num_features, 1), feature_means.values.reshape(num_features, 1)\n",
    "    between_class_scatter_matrix += n*(mc - m).dot((mc - m).T)"
   ]
  },
  {
   "cell_type": "code",
   "execution_count": null,
   "metadata": {},
   "outputs": [],
   "source": [
    "within_class_scatter_matrix.shape"
   ]
  },
  {
   "cell_type": "code",
   "execution_count": null,
   "metadata": {},
   "outputs": [],
   "source": [
    "between_class_scatter_matrix.shape"
   ]
  },
  {
   "cell_type": "code",
   "execution_count": null,
   "metadata": {},
   "outputs": [],
   "source": [
    "inv_within_class_scatter_matrix = np.linalg.pinv(within_class_scatter_matrix)"
   ]
  },
  {
   "cell_type": "code",
   "execution_count": null,
   "metadata": {},
   "outputs": [],
   "source": [
    "eigen_values, eigen_vectors = np.linalg.eig(inv_within_class_scatter_matrix.dot(between_class_scatter_matrix))\n"
   ]
  },
  {
   "cell_type": "code",
   "execution_count": null,
   "metadata": {},
   "outputs": [],
   "source": [
    "pairs = [(np.abs(eigen_values[i]), eigen_vectors[:,i]) for i in range(len(eigen_values))]\n",
    "pairs = sorted(pairs, key=lambda x: x[0], reverse=True)\n",
    "print(\"top 10 eigenvalues\")\n",
    "for pair in pairs[:10]:\n",
    "    print(pair[0])"
   ]
  },
  {
   "cell_type": "code",
   "execution_count": null,
   "metadata": {},
   "outputs": [],
   "source": [
    "w_matrix = np.hstack((pairs[0][1].reshape(num_features,1), pairs[1][1].reshape(num_features,1))).real\n"
   ]
  },
  {
   "cell_type": "code",
   "execution_count": null,
   "metadata": {},
   "outputs": [],
   "source": [
    "eigen_value_sums = sum(eigen_values)\n",
    "print('Explained Variance')\n",
    "for i, pair in enumerate(pairs):\n",
    "    print('Eigenvector {}: {}'.format(i, (pair[0]/eigen_value_sums).real))"
   ]
  },
  {
   "cell_type": "code",
   "execution_count": null,
   "metadata": {},
   "outputs": [],
   "source": [
    "X_lda = np.array(feature_df.drop(columns=['focused']).dot(w_matrix))\n",
    "X_lda"
   ]
  },
  {
   "cell_type": "code",
   "execution_count": null,
   "metadata": {},
   "outputs": [],
   "source": [
    "from sklearn.preprocessing import LabelEncoder\n",
    "\n",
    "le = LabelEncoder()\n",
    "y = le.fit_transform(feature_df['focused'])"
   ]
  },
  {
   "cell_type": "code",
   "execution_count": null,
   "metadata": {},
   "outputs": [],
   "source": [
    "plt.xlabel('LD1')\n",
    "plt.scatter(\n",
    "    X_lda[:,0],\n",
    "    y,\n",
    "    c=y,\n",
    "    cmap='rainbow',\n",
    "    alpha=0.7,\n",
    "    edgecolors='b'\n",
    ")"
   ]
  },
  {
   "cell_type": "code",
   "execution_count": null,
   "metadata": {},
   "outputs": [],
   "source": []
  },
  {
   "cell_type": "code",
   "execution_count": null,
   "metadata": {},
   "outputs": [],
   "source": []
  }
 ],
 "metadata": {
  "kernelspec": {
   "display_name": "Python 3",
   "language": "python",
   "name": "python3"
  },
  "language_info": {
   "codemirror_mode": {
    "name": "ipython",
    "version": 3
   },
   "file_extension": ".py",
   "mimetype": "text/x-python",
   "name": "python",
   "nbconvert_exporter": "python",
   "pygments_lexer": "ipython3",
   "version": "3.6.8"
  }
 },
 "nbformat": 4,
 "nbformat_minor": 2
}
