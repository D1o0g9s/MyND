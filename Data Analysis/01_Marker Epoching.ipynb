{
 "cells": [
  {
   "cell_type": "code",
   "execution_count": null,
   "metadata": {},
   "outputs": [],
   "source": [
    "from helperFunctions import *\n",
    "from constants import *"
   ]
  },
  {
   "cell_type": "code",
   "execution_count": null,
   "metadata": {},
   "outputs": [],
   "source": [
    "'''\n",
    "Files that work with this notebook: \n",
    "exp007_session_MarkersOnly.xdf # With start and end points\n",
    "exp008_session_MarkersOnly.xdf # With start and end points\n",
    "exp001_session_EyeTrackerIncluded.xdf\n",
    "exp002_session_EyeTrackerIncluded.xdf # \"spacePressed\" appears after the text \n",
    "\n",
    "'''\n",
    "\n",
    "XDF_Data = loadxdf(\"../data/exp002_session_EyeTrackerIncluded.xdf\")\n",
    "if StreamType.EEG.value in XDF_Data : \n",
    "    eeg_fs = int(XDF_Data[StreamType.EEG.value][StreamType.FS.value])\n",
    "\n",
    "# Trim the data to only include the time PsychoPy was running\n",
    "XDF_Data = epochByMarkIndex(0, -1, XDF_Data)\n",
    "\n",
    "# Check if all markers are in the data\n",
    "all_markers = np.array(XDF_Data[StreamType.MARKER.value][StreamType.DATA.value][:,0])\n",
    "markersFound = True\n",
    "for marker_key in PSYCHO_PY_MARKERS : \n",
    "    if PSYCHO_PY_MARKERS[marker_key] not in all_markers: \n",
    "        markersFound = False \n",
    "        print(\"Missing Marker:\", PSYCHO_PY_MARKERS[marker_key])\n",
    "print(\"All Markers Found?\", markersFound)"
   ]
  },
  {
   "cell_type": "code",
   "execution_count": null,
   "metadata": {},
   "outputs": [],
   "source": [
    "# Get all the marker indexes in dictionary form\n",
    "def getMarkerIndexes(original_data=XDF_Data):\n",
    "    markers = np.array(original_data[StreamType.MARKER.value][StreamType.DATA.value][:,0])\n",
    "    marker_indexes = {}\n",
    "    for index, marker in enumerate(markers): \n",
    "        if marker not in marker_indexes:\n",
    "            marker_indexes[marker] = list()\n",
    "        marker_indexes[marker].append(index)\n",
    "    return marker_indexes"
   ]
  },
  {
   "cell_type": "markdown",
   "metadata": {},
   "source": [
    "## Get marker strings\n"
   ]
  },
  {
   "cell_type": "code",
   "execution_count": null,
   "metadata": {},
   "outputs": [],
   "source": [
    "def getSectionMarkerString(section_name):\n",
    "    return \"--\"+section_name.capitalize()+\"Start\", \"--\"+section_name.capitalize()+\"Stop\"\n",
    "\n",
    "def getSingleLabelMarkerString(label_name):\n",
    "    return \"--\"+label_name[0].capitalize()+label_name[1:]\n",
    "\n",
    "def getResponseLabelMarkerString(label_name):\n",
    "    return \"--\"+label_name.capitalize()+\"Response\"\n",
    "\n",
    "def getLabelMarkerString(label_name):\n",
    "    marker = \"\"\n",
    "    if label_name in SINGLE_LABELS:\n",
    "        marker = getSingleLabelMarkerString(label_name)\n",
    "    elif label_name in RESPONSE_LABELS: \n",
    "        marker = getResponseLabelMarkerString(label_name)\n",
    "    else : \n",
    "        print(label_name + \" not a valid label\")\n",
    "    return marker"
   ]
  },
  {
   "cell_type": "code",
   "execution_count": null,
   "metadata": {},
   "outputs": [],
   "source": [
    "def getPreviousLabelIndex(label_to_find, max_index, original_data=XDF_Data): \n",
    "    index = max_index\n",
    "    while(index >= 0):\n",
    "        if original_data[StreamType.MARKER.value][StreamType.DATA.value][index] == label_to_find:\n",
    "            return index\n",
    "        index -= 1\n",
    "    return -1"
   ]
  },
  {
   "cell_type": "code",
   "execution_count": null,
   "metadata": {},
   "outputs": [],
   "source": [
    "def getNextLabelIndex(label_to_find, min_index, original_data=XDF_Data): \n",
    "    index = min_index\n",
    "    while(index < len(XDF_Data[StreamType.MARKER.value][StreamType.DATA.value])):\n",
    "        if original_data[StreamType.MARKER.value][StreamType.DATA.value][index] == label_to_find:\n",
    "            return index\n",
    "        index += 1\n",
    "    return -1"
   ]
  },
  {
   "cell_type": "markdown",
   "metadata": {},
   "source": [
    "## Get data sections\n"
   ]
  },
  {
   "cell_type": "code",
   "execution_count": null,
   "metadata": {
    "scrolled": false
   },
   "outputs": [],
   "source": [
    "# Get all of a single section's data given the single section name\n",
    "def getSectionData(section_name, original_data=XDF_Data) :\n",
    "    if section_name not in SINGLETON_SECTIONS: \n",
    "        print(section_name, \" not a singleton section\")\n",
    "        return epochByMarkIndex(0, 0, original_data)\n",
    "    start_marker, stop_marker = getSectionMarkerString(section_name)\n",
    "    marker_indexes = getMarkerIndexes(original_data) \n",
    "    if start_marker not in marker_indexes or stop_marker not in marker_indexes : \n",
    "        return epochByMarkIndex(0, 0, original_data)\n",
    "    return epochByMarkIndex(marker_indexes[start_marker][0], marker_indexes[stop_marker][0], original_data)\n",
    "    \n",
    "\n",
    "# Return the article section data given the section_name and article number \n",
    "def getArticleSectionData(section_name, article_number, original_data=XDF_Data):\n",
    "    if section_name not in ARTICLE_SECTIONS: \n",
    "        print(section_name, \" not an article section\")\n",
    "        return epochByMarkIndex(0, 0, original_data)\n",
    "    start_marker, stop_marker = getSectionMarkerString(section_name)\n",
    "    marker_indexes = getMarkerIndexes(original_data) \n",
    "    if start_marker not in marker_indexes or stop_marker not in marker_indexes : \n",
    "        return epochByMarkIndex(0, 0, original_data)\n",
    "    return epochByMarkIndex(marker_indexes[start_marker][article_number], marker_indexes[stop_marker][article_number], original_data)\n",
    "\n",
    "# Returns all the single label data in the original data\n",
    "# time_before and time_after: the number of seconds before and after each marker to return \n",
    "# Returns a list of all the data with time_before and time_after\n",
    "def getTimeBoundSingleLabelData(label_name, time_before=2, time_after=2, original_data=XDF_Data):\n",
    "    marker_indexes = getMarkerIndexes(original_data)\n",
    "    marker = getLabelMarkerString(label_name)\n",
    "    if label_name == \"\":\n",
    "        print(label_name + \" not a valid label\")\n",
    "        return [], [], []\n",
    "    \n",
    "    if marker not in marker_indexes: \n",
    "        return [], [], []\n",
    "    sub_markers_indexes = marker_indexes[marker]\n",
    "    sub_markers_times = list()\n",
    "    data = list()\n",
    "    for sub_markers_index in sub_markers_indexes:\n",
    "        sub_markers_time = original_data[StreamType.MARKER.value][StreamType.TIME.value][sub_markers_index]\n",
    "        sub_markers_times.append(sub_markers_time)\n",
    "        start_time = sub_markers_time - time_before\n",
    "        end_time = sub_markers_time + time_after\n",
    "        data.append(epochByTime(start_time, end_time, original_data))\n",
    "    return data, sub_markers_indexes, sub_markers_times\n",
    "\n",
    "# primary_label_name is the primary label to look for. secondary_label_name is the secondary label to help bound the primary label in the front or the back. \n",
    "def getLabelBoundSingleLabelData(primary_label_name, secondary_label_name, original_data=XDF_Data, go_backward=True):\n",
    "    marker_indexes = getMarkerIndexes(original_data)\n",
    "    marker_primary = getLabelMarkerString(primary_label_name)\n",
    "    if primary_label_name == \"\":\n",
    "        return [], [], []\n",
    "    \n",
    "    marker_secondary = getLabelMarkerString(secondary_label_name)\n",
    "    if secondary_label_name == \"\":\n",
    "        return [], [], []\n",
    "    \n",
    "    if marker_secondary not in marker_indexes or marker_primary not in marker_indexes: \n",
    "        return [], [], []\n",
    "    \n",
    "    return getMarkerBoundSingleMarkerData(marker_primary, marker_secondary, original_data, go_backward=go_backward)\n",
    "\n",
    "def getMarkerBoundSingleMarkerData(marker_primary, marker_secondary, original_data=XDF_Data, go_backward=True):\n",
    "    marker_indexes = getMarkerIndexes(original_data)\n",
    "    sub_markers_indexes = marker_indexes[marker_primary]\n",
    "    sub_markers_secondary_indexes = list()\n",
    "    data = list()\n",
    "    for sub_markers_index in sub_markers_indexes:\n",
    "        if go_backward:\n",
    "            secondary_index = getPreviousLabelIndex(marker_secondary, sub_markers_index, original_data)\n",
    "            data.append(epochByMarkIndex(secondary_index, sub_markers_index, original_data))\n",
    "        else :\n",
    "            secondary_index = getNextLabelIndex(marker_secondary, sub_markers_index, original_data)\n",
    "            data.append(epochByMarkIndex(sub_markers_index, secondary_index, original_data))\n",
    "        \n",
    "        sub_markers_secondary_indexes.append(secondary_index)\n",
    "    return data, sub_markers_indexes, sub_markers_secondary_indexes\n",
    "        "
   ]
  },
  {
   "cell_type": "code",
   "execution_count": null,
   "metadata": {},
   "outputs": [],
   "source": [
    "def getNumSections(original_data=XDF_Data):\n",
    "    return len(getMarkerIndexes(XDF_Data)[getSingleLabelMarkerString(\"newArticle\")])\n",
    "print(\"num sections\",getNumSections() )"
   ]
  },
  {
   "cell_type": "code",
   "execution_count": null,
   "metadata": {},
   "outputs": [],
   "source": [
    "def getNumDistractions(original_data=XDF_Data):\n",
    "    marker_indexes = getMarkerIndexes(original_data)\n",
    "    marker_string = getLabelMarkerString(\"lettersShown\")\n",
    "    if marker_string not in marker_indexes: \n",
    "        return 0 \n",
    "    return len(marker_indexes[marker_string])"
   ]
  },
  {
   "cell_type": "code",
   "execution_count": null,
   "metadata": {},
   "outputs": [],
   "source": [
    "def getWordLengths(original_data=XDF_Data): \n",
    "    marker_indexes = getMarkerIndexes(original_data)\n",
    "    marker_string = getLabelMarkerString(\"newWord\")\n",
    "    if marker_string not in marker_indexes: \n",
    "        return []\n",
    "    word_lengths = list() \n",
    "    for index in marker_indexes[marker_string] : \n",
    "        word_index = index + 2\n",
    "        word = original_data[StreamType.MARKER.value][StreamType.DATA.value][word_index]\n",
    "        print(word)\n",
    "        word_lengths.append(len(word[0]))\n",
    "    return word_lengths"
   ]
  },
  {
   "cell_type": "code",
   "execution_count": null,
   "metadata": {},
   "outputs": [],
   "source": [
    "def getPointsAfterEachWord(original_data=XDF_Data): \n",
    "    marker_indexes = getMarkerIndexes(original_data)\n",
    "    marker_string = getLabelMarkerString(\"endWord\")\n",
    "    if marker_string not in marker_indexes: \n",
    "        return []\n",
    "    points_list = list() \n",
    "    for index in marker_indexes[marker_string] : \n",
    "        point_index = index - 1\n",
    "        point = int(original_data[StreamType.MARKER.value][StreamType.DATA.value][point_index])\n",
    "        points_list.append(point)\n",
    "    return points_list\n",
    "\n",
    "plt.plot(getPointsAfterEachWord())\n",
    "plt.show()"
   ]
  },
  {
   "cell_type": "code",
   "execution_count": null,
   "metadata": {},
   "outputs": [],
   "source": [
    "def getElapsedTimeOfSection(original_data=XDF_Data):\n",
    "    return original_data[StreamType.MARKER.value][StreamType.TIME.value][-1] - original_data[StreamType.MARKER.value][StreamType.TIME.value][0]\n",
    "\n",
    "correct_response_data, indx_p, indx_s = getLabelBoundSingleLabelData(\"correct\", \"newWord\")\n",
    "reaction_times = list()\n",
    "for data in correct_response_data:\n",
    "    reaction_times.append(getElapsedTimeOfSection(data))\n",
    "plt.plot(reaction_times)\n",
    "plt.show()"
   ]
  },
  {
   "cell_type": "code",
   "execution_count": null,
   "metadata": {},
   "outputs": [],
   "source": [
    "def getTotalPoints(original_data=XDF_Data):\n",
    "    marker_indexes = getMarkerIndexes(original_data)\n",
    "    start_marker_string = getLabelMarkerString(\"newWord\")\n",
    "    end_marker_string = getLabelMarkerString(\"endWord\")\n",
    "    start_points = int(original_data[StreamType.MARKER.value][StreamType.DATA.value][marker_indexes[start_marker_string][0] + 1])\n",
    "    end_points = int(original_data[StreamType.MARKER.value][StreamType.DATA.value][marker_indexes[end_marker_string][-1] - 1])\n",
    "    delta_points = end_points - start_points\n",
    "    return delta_points\n",
    "print(\"total points\", getTotalPoints(getArticleSectionData(\"response\", 3)))   "
   ]
  },
  {
   "cell_type": "code",
   "execution_count": null,
   "metadata": {},
   "outputs": [],
   "source": [
    "def getNumWords(original_data=XDF_Data): \n",
    "    marker_indexes = getMarkerIndexes(original_data)\n",
    "    return len(marker_indexes[getLabelMarkerString(\"newWord\")])\n",
    "print(\"num words:\", getNumWords())"
   ]
  },
  {
   "cell_type": "code",
   "execution_count": null,
   "metadata": {},
   "outputs": [],
   "source": [
    "def getNumTargetWords(original_data=XDF_Data):\n",
    "    marker_indexes = getMarkerIndexes(original_data)\n",
    "    return len(marker_indexes[getLabelMarkerString(\"targetWord\")])\n",
    "print(\"num target words:\", getNumTargetWords())"
   ]
  },
  {
   "cell_type": "code",
   "execution_count": null,
   "metadata": {},
   "outputs": [],
   "source": [
    "# Returns an array of 1 or 0 to represent whether that ith word was a target word\n",
    "def getWordType(original_data=XDF_Data):\n",
    "    marker_indexes = getMarkerIndexes(original_data)\n",
    "    new_word_indexes = marker_indexes[getLabelMarkerString(\"newWord\")]\n",
    "    word_type_indexes = [0] * len(new_word_indexes)\n",
    "    target_word_indexes = marker_indexes[getLabelMarkerString(\"targetWord\")]\n",
    "    count=0\n",
    "    for i, val in enumerate(word_type_indexes) : \n",
    "        if new_word_indexes[i]+4 in target_word_indexes: \n",
    "            count+=1\n",
    "            word_type_indexes[i] = 1\n",
    "    return word_type_indexes"
   ]
  },
  {
   "cell_type": "code",
   "execution_count": null,
   "metadata": {},
   "outputs": [],
   "source": [
    "plt.plot(getWordType(getArticleSectionData(\"response\", 3)))"
   ]
  },
  {
   "cell_type": "code",
   "execution_count": null,
   "metadata": {},
   "outputs": [],
   "source": [
    "new_word_indexes"
   ]
  },
  {
   "cell_type": "code",
   "execution_count": null,
   "metadata": {},
   "outputs": [],
   "source": [
    "target_word_indexes"
   ]
  },
  {
   "cell_type": "code",
   "execution_count": null,
   "metadata": {},
   "outputs": [],
   "source": [
    "XDF_Data[StreamType.MARKER.value][StreamType.DATA.value][200:250]"
   ]
  },
  {
   "cell_type": "code",
   "execution_count": null,
   "metadata": {},
   "outputs": [],
   "source": []
  },
  {
   "cell_type": "code",
   "execution_count": null,
   "metadata": {},
   "outputs": [],
   "source": []
  }
 ],
 "metadata": {
  "kernelspec": {
   "display_name": "Python 3",
   "language": "python",
   "name": "python3"
  },
  "language_info": {
   "codemirror_mode": {
    "name": "ipython",
    "version": 3
   },
   "file_extension": ".py",
   "mimetype": "text/x-python",
   "name": "python",
   "nbconvert_exporter": "python",
   "pygments_lexer": "ipython3",
   "version": "3.6.8"
  }
 },
 "nbformat": 4,
 "nbformat_minor": 2
}
