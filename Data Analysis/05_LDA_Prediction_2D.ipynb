{
 "cells": [
  {
   "cell_type": "code",
   "execution_count": 1,
   "metadata": {},
   "outputs": [],
   "source": [
    "%matplotlib inline\n",
    "from helperFunctions import *\n",
    "from constants import *\n",
    "from dataAnalysisFunctions import getSEM, getCleanedSignal, getIntervals, getPowerRatio\n",
    "import pandas as pd\n",
    "\n",
    "from featureBuilder import featureBuilder\n",
    "\n",
    "import warnings\n",
    "warnings.filterwarnings(\"ignore\")"
   ]
  },
  {
   "cell_type": "code",
   "execution_count": 2,
   "metadata": {},
   "outputs": [],
   "source": [
    "from sklearn.preprocessing import MinMaxScaler\n",
    "from sklearn.model_selection import train_test_split\n",
    "from sklearn.discriminant_analysis import LinearDiscriminantAnalysis\n",
    "from sklearn.ensemble import RandomForestClassifier\n",
    "from sklearn.metrics import confusion_matrix\n",
    "from sklearn.metrics import accuracy_score\n",
    "\n",
    "#Import svm model\n",
    "from sklearn import svm\n"
   ]
  },
  {
   "cell_type": "markdown",
   "metadata": {},
   "source": [
    "## Build dataframes and variables needed"
   ]
  },
  {
   "cell_type": "code",
   "execution_count": 3,
   "metadata": {},
   "outputs": [],
   "source": [
    "# Load data from memory\n",
    "foldername='P001'\n",
    "filename='part_P001_block_S004'\n",
    "filtered_data = loadData(datatype='filtered_data', foldername=foldername, filename=filename)\n",
    "filtered_cleaned_data = loadData(datatype='filtered_cleaned_data', foldername=foldername, filename=filename)\n",
    "df = loadData(datatype='dataframe', foldername=foldername, filename=filename)"
   ]
  },
  {
   "cell_type": "code",
   "execution_count": 4,
   "metadata": {},
   "outputs": [],
   "source": [
    "# Select the trials needed to classify\n",
    "focused_state = df[\"trial_time\"] == 0.7\n",
    "unfocused_state = df[\"trial_time\"] > 0.9\n",
    "med_state = ((df[\"trial_time\"] > 0.7) & (df[\"trial_time\"] <= 0.9))\n",
    "\n",
    "focused_df = df[focused_state]\n",
    "unfocused_df = df[unfocused_state]\n",
    "med_df = df[med_state]"
   ]
  },
  {
   "cell_type": "code",
   "execution_count": 5,
   "metadata": {},
   "outputs": [
    {
     "data": {
      "text/plain": [
       "930"
      ]
     },
     "execution_count": 5,
     "metadata": {},
     "output_type": "execute_result"
    }
   ],
   "source": [
    "# Create the dataframes\n",
    "fb = featureBuilder()\n",
    "dictionary = {}\n",
    "for row_index,row in focused_df.iterrows():\n",
    "    dictionary = fb.appendDataToDict(row[\"data_extended\"], focused=2, dictionary=dictionary)\n",
    "for row_index,row in unfocused_df.iterrows():\n",
    "    dictionary = fb.appendDataToDict(row[\"data_extended\"], focused=0, dictionary=dictionary)\n",
    "for row_index,row in med_df.iterrows():\n",
    "    dictionary = fb.appendDataToDict(row[\"data_extended\"], focused=1, dictionary=dictionary)\n",
    "\n",
    "feature_df = pd.DataFrame(dictionary)\n",
    "len(feature_df)"
   ]
  },
  {
   "cell_type": "code",
   "execution_count": 6,
   "metadata": {},
   "outputs": [],
   "source": [
    "# Needed for visualizing LDA components\n",
    "colors=['blue', 'orange', 'green']\n",
    "class_names=[\"unfocused\", \"mid_focused\", \"focused\"]"
   ]
  },
  {
   "cell_type": "markdown",
   "metadata": {},
   "source": [
    "## LDA using sklearn 2D (3 possible outputs)\n",
    "https://stackabuse.com/implementing-lda-in-python-with-scikit-learn/"
   ]
  },
  {
   "cell_type": "code",
   "execution_count": 7,
   "metadata": {},
   "outputs": [
    {
     "name": "stdout",
     "output_type": "stream",
     "text": [
      "Accuracy 0.532258064516129\n",
      "Accuracy 0.521505376344086\n",
      "Accuracy 0.489247311827957\n",
      "Accuracy 0.4838709677419355\n",
      "Accuracy 0.46236559139784944\n",
      "Accuracy 0.489247311827957\n",
      "Accuracy 0.44086021505376344\n",
      "Accuracy 0.46774193548387094\n",
      "Accuracy 0.45698924731182794\n",
      "Accuracy 0.46774193548387094\n",
      "Avg accuracy: 0.4811827956989247\n"
     ]
    }
   ],
   "source": [
    "# Average the accuracy over X different random samples\n",
    "accuracies = []\n",
    "for rand_state_var in range(10): \n",
    "    # Split data\n",
    "    X_train, X_test, y_train, y_test = train_test_split(feature_df.drop(columns=[\"focused\"]), feature_df[\"focused\"], test_size=0.2, random_state=rand_state_var)\n",
    "\n",
    "    lda = LinearDiscriminantAnalysis(n_components=2)\n",
    "    features_wo_output = feature_df.drop(columns=[\"focused\"])\n",
    "    X_train, scaler = scaleData(X_train, X_train.columns.values) # Scaling doesn't change anything\n",
    "    X_test = scaler.transform(X_test)\n",
    "    X_train = lda.fit_transform(X_train, y_train)\n",
    "    X_test = lda.transform(X_test)\n",
    "\n",
    "\n",
    "    ## Classify using random forest classifier\n",
    "    classifier = RandomForestClassifier(max_depth=2, random_state=0)\n",
    "\n",
    "    classifier.fit(X_train, y_train)\n",
    "    y_pred = classifier.predict(X_test)\n",
    "\n",
    "    # Report accuracy\n",
    "    # cm = confusion_matrix(y_test, y_pred)\n",
    "    # print(cm)\n",
    "    print('Accuracy', str(accuracy_score(y_test, y_pred)))\n",
    "    accuracies.append(accuracy_score(y_test, y_pred))\n",
    "print(\"Avg accuracy:\", np.mean(np.array(accuracies)))"
   ]
  },
  {
   "cell_type": "code",
   "execution_count": null,
   "metadata": {},
   "outputs": [],
   "source": []
  },
  {
   "cell_type": "code",
   "execution_count": 8,
   "metadata": {},
   "outputs": [
    {
     "name": "stdout",
     "output_type": "stream",
     "text": [
      "Accuracy 0.5053763440860215\n",
      "Accuracy 0.532258064516129\n",
      "Accuracy 0.510752688172043\n",
      "Accuracy 0.510752688172043\n",
      "Accuracy 0.46236559139784944\n",
      "Accuracy 0.4731182795698925\n",
      "Accuracy 0.42473118279569894\n",
      "Accuracy 0.478494623655914\n",
      "Accuracy 0.478494623655914\n",
      "Accuracy 0.4731182795698925\n",
      "Avg LDA + SMV accuracy: 0.4849462365591398\n"
     ]
    }
   ],
   "source": [
    "# Average the accuracy over X different random samples\n",
    "accuracies = []\n",
    "for rand_state_var in range(10): \n",
    "    # Split data\n",
    "    X_train, X_test, y_train, y_test = train_test_split(feature_df.drop(columns=[\"focused\"]), feature_df[\"focused\"], test_size=0.2, random_state=rand_state_var)\n",
    "\n",
    "    lda = LinearDiscriminantAnalysis(n_components=2)\n",
    "    features_wo_output = feature_df.drop(columns=[\"focused\"])\n",
    "    X_train, scaler = scaleData(X_train, X_train.columns.values) # Scaling doesn't change anything\n",
    "    X_test = scaler.transform(X_test)\n",
    "    X_train = lda.fit_transform(X_train, y_train)\n",
    "    X_test = lda.transform(X_test)\n",
    "\n",
    "\n",
    "    ## Classify using SVM\n",
    "    #Create a svm Classifier\n",
    "    clf = svm.SVC(kernel='linear') # Linear Kernel\n",
    "\n",
    "    #Train the model using the training sets\n",
    "    clf.fit(X_train, y_train)\n",
    "\n",
    "    #Predict the response for test dataset\n",
    "    y_pred = clf.predict(X_test)\n",
    "\n",
    "    # Report accuracy\n",
    "    #cm = confusion_matrix(y_test, y_pred)\n",
    "    #print(cm)\n",
    "    print('Accuracy', str(accuracy_score(y_test, y_pred)))\n",
    "    accuracies.append(accuracy_score(y_test, y_pred))\n",
    "print(\"Avg LDA + SMV accuracy:\", np.mean(np.array(accuracies)))"
   ]
  },
  {
   "cell_type": "code",
   "execution_count": 8,
   "metadata": {},
   "outputs": [
    {
     "name": "stdout",
     "output_type": "stream",
     "text": [
      "LDA explained variance: [0.65232176 0.34767824]\n"
     ]
    },
    {
     "data": {
      "image/png": "[encoded data removed]",
      "text/plain": [
       "<Figure size 432x288 with 1 Axes>"
      ]
     },
     "metadata": {
      "needs_background": "light"
     },
     "output_type": "display_data"
    }
   ],
   "source": [
    "# Visualize LDA model \n",
    "print(\"LDA explained variance:\", lda.explained_variance_ratio_)\n",
    "\n",
    "# Create dataframe for the feature\n",
    "lda_feature_df = pd.DataFrame(X_train, columns=['LDA 1', 'LDA 2'])\n",
    "lda_feature_df['focused']=y_train.values\n",
    "\n",
    "# Plot groups wrt LDA 1 dimension\n",
    "plt.xlabel('LD1')\n",
    "plt.ylabel('LD2')\n",
    "\n",
    "for class_name, df in lda_feature_df.groupby('focused'): \n",
    "    plt.scatter(\n",
    "        df['LDA 1'].values,\n",
    "        df['LDA 2'].values,\n",
    "        c=colors[class_name],\n",
    "        cmap='rainbow',\n",
    "        alpha=0.7,\n",
    "        label=class_names[class_name]\n",
    "    )\n",
    "plt.legend(loc='lower right')\n",
    "plt.title(\"Focused, med, and unfocused trials over LDA 1 and 2\")\n",
    "plt.show()"
   ]
  },
  {
   "cell_type": "markdown",
   "metadata": {},
   "source": [
    "## LDA manual\n",
    "https://towardsdatascience.com/linear-discriminant-analysis-in-python-76b8b17817c2"
   ]
  },
  {
   "cell_type": "code",
   "execution_count": 9,
   "metadata": {},
   "outputs": [],
   "source": [
    "class_feature_means = pd.DataFrame(columns=[False,True])\n",
    "for class_name, rows in feature_df.groupby('focused'):\n",
    "    class_feature_means[class_name] = rows.mean()\n",
    "    \n",
    "class_feature_means = class_feature_means.drop(['focused'])"
   ]
  },
  {
   "cell_type": "code",
   "execution_count": 10,
   "metadata": {},
   "outputs": [],
   "source": [
    "num_features = len(class_feature_means)\n",
    "within_class_scatter_matrix = np.zeros((num_features, num_features))\n",
    "for c,rows in feature_df.groupby('focused'):\n",
    "    rows=rows.drop(columns=['focused'])\n",
    "    s = np.zeros((num_features, num_features))\n",
    "    for index, row in rows.iterrows():\n",
    "        x, mc = row.values.reshape(num_features, 1), class_feature_means[c].values.reshape(num_features, 1)\n",
    "        s += (x-mc).dot((x-mc).T)\n",
    "    within_class_scatter_matrix += s\n"
   ]
  },
  {
   "cell_type": "code",
   "execution_count": 11,
   "metadata": {},
   "outputs": [],
   "source": [
    "feature_means = feature_df.mean().drop(['focused'])\n",
    "between_class_scatter_matrix = np.zeros((num_features, num_features))\n",
    "for c,rows in feature_df.groupby('focused'):\n",
    "    rows=rows.drop(columns=['focused'])\n",
    "    n = len(rows)\n",
    "    mc, m = class_feature_means[c].values.reshape(num_features, 1), feature_means.values.reshape(num_features, 1)\n",
    "    between_class_scatter_matrix += n*(mc - m).dot((mc - m).T)"
   ]
  },
  {
   "cell_type": "code",
   "execution_count": 12,
   "metadata": {},
   "outputs": [
    {
     "data": {
      "text/plain": [
       "(48, 48)"
      ]
     },
     "execution_count": 12,
     "metadata": {},
     "output_type": "execute_result"
    }
   ],
   "source": [
    "within_class_scatter_matrix.shape"
   ]
  },
  {
   "cell_type": "code",
   "execution_count": 13,
   "metadata": {},
   "outputs": [
    {
     "data": {
      "text/plain": [
       "(48, 48)"
      ]
     },
     "execution_count": 13,
     "metadata": {},
     "output_type": "execute_result"
    }
   ],
   "source": [
    "between_class_scatter_matrix.shape"
   ]
  },
  {
   "cell_type": "code",
   "execution_count": 14,
   "metadata": {},
   "outputs": [],
   "source": [
    "inv_within_class_scatter_matrix = np.linalg.pinv(within_class_scatter_matrix)"
   ]
  },
  {
   "cell_type": "code",
   "execution_count": 15,
   "metadata": {},
   "outputs": [],
   "source": [
    "eigen_values, eigen_vectors = np.linalg.eig(inv_within_class_scatter_matrix.dot(between_class_scatter_matrix))\n"
   ]
  },
  {
   "cell_type": "code",
   "execution_count": 16,
   "metadata": {},
   "outputs": [
    {
     "name": "stdout",
     "output_type": "stream",
     "text": [
      "0.07439846588569235\n",
      "0.04452282272393282\n",
      "2.0868280427213818e-14\n",
      "1.5123316424826227e-15\n",
      "1.5123316424826227e-15\n",
      "5.754735996385016e-16\n",
      "3.439518326318062e-16\n",
      "3.439518326318062e-16\n",
      "3.385523825697202e-16\n",
      "3.385523825697202e-16\n",
      "2.236079651981054e-16\n",
      "2.236079651981054e-16\n",
      "1.33739450609809e-16\n",
      "9.002336826778142e-17\n",
      "7.935343273276738e-17\n",
      "7.935343273276738e-17\n",
      "6.85247219982934e-17\n",
      "6.85247219982934e-17\n",
      "3.205082604874352e-17\n",
      "3.205082604874352e-17\n",
      "2.8886081893529797e-17\n",
      "2.8886081893529797e-17\n",
      "2.6983657120515852e-17\n",
      "2.2855072162304146e-17\n",
      "2.2855072162304146e-17\n",
      "2.2138539113267897e-17\n",
      "1.6817496487767113e-17\n",
      "1.6817496487767113e-17\n",
      "1.1009146822585187e-17\n",
      "7.536064545249375e-18\n",
      "7.536064545249375e-18\n",
      "7.48710141115237e-18\n",
      "2.246404439402795e-18\n",
      "2.246404439402795e-18\n",
      "1.8641970983377276e-18\n",
      "7.425390831785608e-19\n",
      "7.623503733058104e-20\n",
      "8.89978199465219e-21\n",
      "3.1252883078545843e-33\n",
      "3.1252883078545843e-33\n",
      "1.3245076459038125e-33\n",
      "1.3245076459038125e-33\n",
      "7.161231434006543e-34\n",
      "7.161231434006543e-34\n",
      "7.15079112222706e-34\n",
      "2.8916415529069464e-34\n",
      "1.5669483068605684e-34\n",
      "5.125162797705379e-35\n"
     ]
    }
   ],
   "source": [
    "pairs = [(np.abs(eigen_values[i]), eigen_vectors[:,i]) for i in range(len(eigen_values))]\n",
    "pairs = sorted(pairs, key=lambda x: x[0], reverse=True)\n",
    "for pair in pairs:\n",
    "    print(pair[0])"
   ]
  },
  {
   "cell_type": "code",
   "execution_count": 17,
   "metadata": {},
   "outputs": [],
   "source": [
    "w_matrix = np.hstack((pairs[0][1].reshape(num_features,1), pairs[1][1].reshape(num_features,1))).real\n"
   ]
  },
  {
   "cell_type": "code",
   "execution_count": 18,
   "metadata": {},
   "outputs": [
    {
     "name": "stdout",
     "output_type": "stream",
     "text": [
      "Explained Variance\n",
      "Eigenvector 0: 0.6256109966141358\n",
      "Eigenvector 1: 0.37438900338603254\n",
      "Eigenvector 2: 1.754797704532131e-13\n",
      "Eigenvector 3: 1.2717080853767953e-14\n",
      "Eigenvector 4: 1.2717080853767953e-14\n",
      "Eigenvector 5: 4.8391133863985155e-15\n",
      "Eigenvector 6: 2.8922645949534854e-15\n",
      "Eigenvector 7: 2.8922645949534854e-15\n",
      "Eigenvector 8: 2.846861033276557e-15\n",
      "Eigenvector 9: 2.846861033276557e-15\n",
      "Eigenvector 10: 1.880302238669526e-15\n",
      "Eigenvector 11: 1.880302238669526e-15\n",
      "Eigenvector 12: 1.12460478837266e-15\n",
      "Eigenvector 13: 7.569996030173384e-16\n",
      "Eigenvector 14: 6.672769330079231e-16\n",
      "Eigenvector 15: 6.672769330079231e-16\n",
      "Eigenvector 16: 5.762191345171712e-16\n",
      "Eigenvector 17: 5.762191345171712e-16\n",
      "Eigenvector 18: 2.6951293938598314e-16\n",
      "Eigenvector 19: 2.6951293938598314e-16\n",
      "Eigenvector 20: 2.429008483784349e-16\n",
      "Eigenvector 21: 2.429008483784349e-16\n",
      "Eigenvector 22: 2.269035042926402e-16\n",
      "Eigenvector 23: 1.9218654985595376e-16\n",
      "Eigenvector 24: 1.9218654985595376e-16\n",
      "Eigenvector 25: 1.8616127837248972e-16\n",
      "Eigenvector 26: 1.4141703881947996e-16\n",
      "Eigenvector 27: 1.4141703881947996e-16\n",
      "Eigenvector 28: 9.257507172434044e-17\n",
      "Eigenvector 29: 6.337018908354391e-17\n",
      "Eigenvector 30: 6.337018908354391e-17\n",
      "Eigenvector 31: 6.295846184219403e-17\n",
      "Eigenvector 32: 1.8889842732677514e-17\n",
      "Eigenvector 33: 1.8889842732677514e-17\n",
      "Eigenvector 34: 1.5675890499786916e-17\n",
      "Eigenvector 35: 6.243954231072692e-18\n",
      "Eigenvector 36: 6.410545851117158e-19\n",
      "Eigenvector 37: 7.483758457973322e-20\n",
      "Eigenvector 38: 2.6280309811595484e-32\n",
      "Eigenvector 39: 2.6280309811595484e-32\n",
      "Eigenvector 40: 1.1137683264195922e-32\n",
      "Eigenvector 41: 1.1137683264195922e-32\n",
      "Eigenvector 42: 6.021824618395648e-33\n",
      "Eigenvector 43: 6.021824618395648e-33\n",
      "Eigenvector 44: 6.01304544025055e-33\n",
      "Eigenvector 45: 2.4315592159446137e-33\n",
      "Eigenvector 46: 1.3176348197878572e-33\n",
      "Eigenvector 47: 4.3097101096257586e-34\n"
     ]
    }
   ],
   "source": [
    "eigen_value_sums = sum(eigen_values)\n",
    "print('Explained Variance')\n",
    "for i, pair in enumerate(pairs):\n",
    "    print('Eigenvector {}: {}'.format(i, (pair[0]/eigen_value_sums).real))"
   ]
  },
  {
   "cell_type": "code",
   "execution_count": 19,
   "metadata": {},
   "outputs": [
    {
     "data": {
      "text/plain": [
       "array([[-0.02958873,  0.11114413],\n",
       "       [-0.03088476,  0.11393677],\n",
       "       [-0.0199063 ,  0.12228797],\n",
       "       ...,\n",
       "       [-0.02839349,  0.11589241],\n",
       "       [-0.02494543,  0.1146035 ],\n",
       "       [-0.03061596,  0.1065048 ]])"
      ]
     },
     "execution_count": 19,
     "metadata": {},
     "output_type": "execute_result"
    }
   ],
   "source": [
    "X_lda = np.array(feature_df.drop(columns=['focused']).dot(w_matrix))\n",
    "X_lda"
   ]
  },
  {
   "cell_type": "code",
   "execution_count": 20,
   "metadata": {},
   "outputs": [],
   "source": [
    "from sklearn.preprocessing import LabelEncoder\n",
    "\n",
    "le = LabelEncoder()\n",
    "y = le.fit_transform(feature_df['focused'])"
   ]
  },
  {
   "cell_type": "code",
   "execution_count": 21,
   "metadata": {},
   "outputs": [
    {
     "data": {
      "text/plain": [
       "<matplotlib.collections.PathCollection at 0x1c21f82160>"
      ]
     },
     "execution_count": 21,
     "metadata": {},
     "output_type": "execute_result"
    },
    {
     "data": {
      "image/png": "[encoded data removed]",
      "text/plain": [
       "<Figure size 432x288 with 1 Axes>"
      ]
     },
     "metadata": {
      "needs_background": "light"
     },
     "output_type": "display_data"
    }
   ],
   "source": [
    "plt.xlabel('LD1')\n",
    "plt.ylabel('LD2')\n",
    "plt.scatter(\n",
    "    X_lda[:,0],\n",
    "    X_lda[:,1],\n",
    "    c=y,\n",
    "    cmap='rainbow',\n",
    "    alpha=0.7,\n",
    "    edgecolors='b'\n",
    ")"
   ]
  },
  {
   "cell_type": "code",
   "execution_count": null,
   "metadata": {},
   "outputs": [],
   "source": []
  },
  {
   "cell_type": "code",
   "execution_count": null,
   "metadata": {},
   "outputs": [],
   "source": []
  }
 ],
 "metadata": {
  "kernelspec": {
   "display_name": "Python 3",
   "language": "python",
   "name": "python3"
  },
  "language_info": {
   "codemirror_mode": {
    "name": "ipython",
    "version": 3
   },
   "file_extension": ".py",
   "mimetype": "text/x-python",
   "name": "python",
   "nbconvert_exporter": "python",
   "pygments_lexer": "ipython3",
   "version": "3.6.8"
  }
 },
 "nbformat": 4,
 "nbformat_minor": 2
}
