{
 "cells": [
  {
   "cell_type": "code",
   "execution_count": null,
   "metadata": {},
   "outputs": [],
   "source": [
    "from pyOpenBCI import OpenBCICyton\n",
    "import numpy as np\n",
    "import time\n",
    "import matplotlib.pyplot as plt\n",
    "import pyeeg\n",
    "import threading\n",
    "from neurodsp import filt\n",
    "from scipy import signal\n",
    "import os\n",
    "import pickle\n",
    "import pyxdf\n",
    "from enum import Enum\n",
    "from helperFunctions import epochByMarkIndex, loadData, getArticleSectionData, loadxdf, writeToPickle, loadPickle\n",
    "from constants import StreamType\n",
    "from dataAnalysisFunctions import getIntervals, getPowerRatio"
   ]
  },
  {
   "cell_type": "code",
   "execution_count": null,
   "metadata": {},
   "outputs": [],
   "source": [
    "from neurodsp import spectral, plts\n",
    "from neurodsp.plts.time_series import plot_time_series\n"
   ]
  },
  {
   "cell_type": "code",
   "execution_count": null,
   "metadata": {},
   "outputs": [],
   "source": [
    "from neurodsp.plts.filt import plot_filter_properties\n",
    "from neurodsp.filt.utils import compute_frequency_response\n",
    "from neurodsp.plts.filt import plot_frequency_response"
   ]
  },
  {
   "cell_type": "code",
   "execution_count": null,
   "metadata": {},
   "outputs": [],
   "source": [
    "DEFAULT_SECONDS = 3\n",
    "DEFAULT_FS = 250\n",
    "DEFAULT_CHANNELS = [0, 1, 2, 3, 4, 5, 6, 7]\n",
    "DEFAULT_BINNING=[4, 8, 12, 20, 30]\n",
    "DEFAULT_POWER_UPDATE_SECONDS = 1\n",
    "SCALE_FACTOR_EEG = (4500000)/24/(2**23-1) #uV/count\n",
    "F_RANGE=(0.5, 50)"
   ]
  },
  {
   "cell_type": "code",
   "execution_count": null,
   "metadata": {},
   "outputs": [],
   "source": [
    "class SamePlotter:\n",
    "    def __init__(self, fs=DEFAULT_FS, buffer_seconds=DEFAULT_SECONDS, num_lines=len(DEFAULT_CHANNELS), x_label=\"timepoints\", y_label=\"output\", x_lim=(0,DEFAULT_FS * DEFAULT_SECONDS), y_lim=(0,1)):\n",
    "        self.fs = fs\n",
    "        self.buffer_seconds = buffer_seconds\n",
    "        self.num_lines = num_lines\n",
    "        fig,ax = plt.subplots(1,1) # figsize=(20,10)\n",
    "        ax.set_xlabel(x_label)\n",
    "        ax.set_ylabel(y_label)\n",
    "        ax.set_xlim(x_lim[0],x_lim[1])\n",
    "        ax.set_ylim(y_lim[0],y_lim[1])\n",
    "        self.x = np.linspace(x_lim[0], x_lim[1], self.fs * self.buffer_seconds)\n",
    "        self.ax = ax\n",
    "        self.fig = fig\n",
    "\n",
    "    def __prepend_zeros(self, data, complete_length):\n",
    "        # Prepends the data with arrays of zeros until it reaches the complete length needed for the buffer\n",
    "        new_data = np.zeros((complete_length, self.num_lines))\n",
    "        count = 0\n",
    "        for i in range(complete_length - len(data), complete_length):\n",
    "            new_data[i] = data[count]\n",
    "            count += 1\n",
    "        return new_data\n",
    "\n",
    "    def plot(self, y_datas):\n",
    "        complete_length = self.fs * self.buffer_seconds\n",
    "        if len(y_datas) < complete_length:\n",
    "            y_datas = self.__prepend_zeros(y_datas, complete_length)\n",
    "        \n",
    "        if self.ax.lines:\n",
    "            for i, line in enumerate(self.ax.lines):\n",
    "                line.set_ydata(y_datas[:, i])\n",
    "        else :\n",
    "            for data in range(self.num_lines): \n",
    "                self.ax.plot(self.x, y_datas[:,data])\n",
    "        self.fig.canvas.draw()\n",
    "        self.fig.canvas.flush_events()\n",
    "            "
   ]
  },
  {
   "cell_type": "code",
   "execution_count": null,
   "metadata": {},
   "outputs": [],
   "source": [
    "class EEGSampler:\n",
    "    \"\"\" Holds a buffer of EEG data and accepts a single data sample as input to append to the buffer\n",
    "    \"\"\"\n",
    "    def __init__(self, fs=DEFAULT_FS, buffer_seconds=DEFAULT_SECONDS, power_update_seconds=DEFAULT_POWER_UPDATE_SECONDS, channels=DEFAULT_CHANNELS, binning=DEFAULT_BINNING, live=True, model=None):\n",
    "        self.fs = fs\n",
    "        self.buffer_seconds = buffer_seconds\n",
    "        self.channels = channels # These are the channels we want\n",
    "        \n",
    "        self.live = live\n",
    "        self.model = model\n",
    "        \n",
    "        self.buffer = np.zeros((fs * buffer_seconds, len(channels)))\n",
    "        self.raw_buffer = np.zeros((fs * buffer_seconds, len(channels)))\n",
    "        self.dc_removed_buffer = np.zeros((fs * buffer_seconds, len(channels)))\n",
    "        \n",
    "        self.binning = binning\n",
    "        self.intervals = getIntervals(self.binning)\n",
    "        self.power_bin_values = np.zeros((fs * buffer_seconds, len(self.intervals), len(self.channels)))\n",
    "        self.focus = np.zeros((fs * buffer_seconds))\n",
    "        self.focus_average = np.zeros((fs * buffer_seconds))\n",
    "        self.power_update_seconds = power_update_seconds\n",
    "        self.last_updated = time.time()\n",
    "        self.mean = np.zeros(len(channels))\n",
    "        self.count_samples = 0\n",
    "        self.num_focused = 0 \n",
    "        \n",
    "        ## Realtime filtering \n",
    "        ## https://stackoverflow.com/questions/40483518/how-to-real-time-filter-with-scipy-and-lfilter\n",
    "        ## This is how it works? \n",
    "        ## https://www.drdobbs.com/real-time-filters/184401931?pgno=1\n",
    "        # Bandpass filter \n",
    "        self.bandpass_filter_b, self.bandpass_filter_a = filt.design_iir_filter(fs, pass_type='bandpass', f_range=F_RANGE, butterworth_order=2)\n",
    "        #print(\"bandpass b\", self.bandpass_filter_b)\n",
    "        #print(\"bandpass a\", self.bandpass_filter_a)\n",
    "        self.bandpass_filter_z = signal.lfilter_zi(self.bandpass_filter_b, self.bandpass_filter_a)\n",
    "        \n",
    "#         # FIR NOTCH FILTER \n",
    "#         self.notch_filter_b  = filt.design_fir_filter(fs, pass_type='bandstop', f_range=(58, 62), n_seconds=0.1)#, butterworth_order=8)\n",
    "#         self.notch_filter_z = signal.lfilter_zi(self.notch_filter_b, [1])\n",
    "#         f_db, db = compute_frequency_response(self.notch_filter_b, 1, fs)\n",
    "        #plot_frequency_response(f_db, db)#, fs, self.notch_filter_b)\n",
    "        \n",
    "        # IIR NOTCH FILTER \n",
    "        self.notch_filter_b, self.notch_filter_a = filt.design_iir_filter(fs, pass_type='lowpass', f_range=58, butterworth_order=8)\n",
    "        self.notch_filter_z = signal.lfilter_zi(self.notch_filter_b, self.notch_filter_a)\n",
    "#         self.notch_filter_b2, self.notch_filter_a2 = filt.design_iir_filter(fs, pass_type='lowpass', f_range=59, butterworth_order=8)\n",
    "#         self.notch_filter_z2 = signal.lfilter_zi(self.notch_filter_b2, self.notch_filter_a2)\n",
    "        # f_db, db = compute_frequency_response(self.notch_filter_b, self.notch_filter_a, fs)\n",
    "#         plot_frequency_response(f_db, db)#, fs, self.notch_filter_b)\n",
    "\n",
    "        ## IIR Low Pass\n",
    "#         self.notch_filter_b, self.notch_filter_a  = filt.design_iir_filter(fs, pass_type='lowpass', f_range=50, butterworth_order=8)\n",
    "#         self.notch_filter_z = signal.lfilter_zi(self.notch_filter_b, self.notch_filter_a)\n",
    "#         f_db, db = compute_frequency_response(self.notch_filter_b, self.notch_filter_a, fs)\n",
    "        \n",
    "    def __update_focus(self):\n",
    "        data = np.transpose(self.buffer[:546])\n",
    "        self.focus[0] = -1 if self.model.predict_classes(np.array([data]))[0] == 0 else 1\n",
    "        self.focus_average[0] = np.mean(self.focus[:self.fs])\n",
    "    def __update_power_bin(self):\n",
    "        for chan in range(len(self.channels)):\n",
    "            eeg_data = self.buffer[:self.count_samples,chan]\n",
    "            self.power_bin_values[0, :, chan] = getPowerRatio(eeg_data, self.binning, eeg_fs=self.fs)\n",
    "        # print(self.power_bin_values[0, :, :])\n",
    "    def push_data_sample(self, sample):\n",
    "        if self.count_samples > 0: \n",
    "            self.mean = np.mean(self.raw_buffer[:self.count_samples], axis=0)\n",
    "        # Count the number of samples up till the full buffer (this is for mean calculation)\n",
    "        if self.count_samples < self.fs * self.buffer_seconds: \n",
    "            self.count_samples += 1\n",
    "        \n",
    "        # Get the scaled channel data\n",
    "        if self.live: \n",
    "            raw_eeg_data = np.array(sample.channels_data) * SCALE_FACTOR_EEG\n",
    "        else :\n",
    "            raw_eeg_data = np.array(sample) \n",
    "        \n",
    "        # Roll and prepend the buffer with the new data\n",
    "        self.raw_buffer = np.roll(self.raw_buffer, 1, 0)\n",
    "        self.buffer = np.roll(self.buffer, 1, 0)\n",
    "        self.dc_removed_buffer = np.roll(self.dc_removed_buffer, 1, 0)\n",
    "        self.power_bin_values = np.roll(self.power_bin_values, 1, 0)\n",
    "        self.focus = np.roll(self.focus, 1, 0)\n",
    "        self.focus_average = np.roll(self.focus_average, 1, 0)\n",
    "        for i, chan in enumerate(self.channels):\n",
    "            self.raw_buffer[0, i] = raw_eeg_data[chan]\n",
    "            if self.raw_buffer[0, i] == 0 : \n",
    "                continue\n",
    "            self.dc_removed_buffer[0, i] = self.raw_buffer[0,i] - self.mean[i]\n",
    "            bandpassed_data, self.notch_filter_z = signal.lfilter(self.notch_filter_b, self.notch_filter_a, [self.dc_removed_buffer[0, i]], zi=self.notch_filter_z)\n",
    "            self.buffer[0,i], self.bandpass_filter_z = signal.lfilter(self.bandpass_filter_b, self.bandpass_filter_a, bandpassed_data, zi=self.bandpass_filter_z)\n",
    "            \n",
    "            #self.power_bin_values[0,:, i] = self.power_bin_values[1,:,i]\n",
    "        if (self.model is not None) and (self.count_samples > 546): \n",
    "            self.__update_focus()\n",
    "        # Calculat the new mean if the update time has passed\n",
    "        now = time.time()\n",
    "        if (now - self.last_updated) > self.power_update_seconds :\n",
    "            self.last_updated = now\n",
    "            #self.__update_power_bin()\n",
    "            "
   ]
  },
  {
   "cell_type": "code",
   "execution_count": null,
   "metadata": {},
   "outputs": [],
   "source": [
    "# Import model\n",
    "import torch\n",
    "model_t = torch.load(\"models/model_t_combined_filtered.pickle\")"
   ]
  },
  {
   "cell_type": "markdown",
   "metadata": {},
   "source": [
    "## Live data collection"
   ]
  },
  {
   "cell_type": "code",
   "execution_count": null,
   "metadata": {},
   "outputs": [],
   "source": [
    "# board.stop_stream()"
   ]
  },
  {
   "cell_type": "code",
   "execution_count": null,
   "metadata": {},
   "outputs": [],
   "source": [
    "# board = OpenBCICyton()\n",
    "# sampler = EEGSampler(buffer_seconds=10)\n",
    "# eeg_thread = threading.Thread(target=board.start_stream, args=(sampler.push_data_sample,))\n",
    "# eeg_thread.start()\n",
    "# print(\"thread started\")"
   ]
  },
  {
   "cell_type": "code",
   "execution_count": null,
   "metadata": {},
   "outputs": [],
   "source": [
    "# %matplotlib notebook\n",
    "\n",
    "# NUM_TIMES = 250\n",
    "# sameplotter = SamePlotter(buffer_seconds=10, y_lim=(-400, 400))\n",
    "# for i in range(NUM_TIMES) :\n",
    "#     arr_to_plot = sampler.buffer\n",
    "#     sameplotter.plot(arr_to_plot)\n",
    "#     time.sleep(0.05)\n",
    "\n",
    "# board.stop_stream()"
   ]
  },
  {
   "cell_type": "code",
   "execution_count": null,
   "metadata": {},
   "outputs": [],
   "source": [
    "# writeToPickle(sampler.raw_buffer, \"sampler_raw_buffer_eye_close_2.pickle\")\n",
    "# writeToPickle(sampler.buffer, \"sampler_buffer_small_eye_close_2.pickle\")"
   ]
  },
  {
   "cell_type": "markdown",
   "metadata": {},
   "source": [
    "### Visualize Live Data"
   ]
  },
  {
   "cell_type": "code",
   "execution_count": null,
   "metadata": {},
   "outputs": [],
   "source": [
    "# Filtered signal \n",
    "\n",
    "freqs, psds = spectral.compute_spectrum(sampler.buffer[:len(sampler.buffer)//3,0], DEFAULT_FS, method='welch', avg_type='mean', nperseg=DEFAULT_FS*2)\n",
    "plt.plot(freqs[0:3*len(freqs)//5], np.log(psds[0:3*len(freqs)//5]))\n",
    "plt.title(\"PSD after filtering\")\n",
    "plt.xlabel(\"Frequency (Hz)\")\n",
    "plt.ylabel(\"Power log(uV^2 / Hz)\")\n",
    "plt.ylim(-8, 12)\n",
    "plt.show()\n"
   ]
  },
  {
   "cell_type": "code",
   "execution_count": null,
   "metadata": {},
   "outputs": [],
   "source": [
    "# Original (dc removed)\n",
    "\n",
    "freqs, psds = spectral.compute_spectrum(sampler.dc_removed_buffer[:len(sampler.buffer)//3,0], DEFAULT_FS, method='welch', avg_type='mean', nperseg=DEFAULT_FS*2)\n",
    "plt.plot(freqs[0:3*len(freqs)//5], np.log(psds[0:3*len(freqs)//5]))\n",
    "plt.title(\"PSD before filter\")\n",
    "plt.xlabel(\"Frequency (Hz)\")\n",
    "plt.ylabel(\"Power log(uV^2 / Hz)\")\n",
    "plt.ylim(-8, 12)\n",
    "plt.show()\n"
   ]
  },
  {
   "cell_type": "code",
   "execution_count": null,
   "metadata": {},
   "outputs": [],
   "source": [
    "# Filtered signal \n",
    "\n",
    "plt.plot(sampler.buffer[:len(sampler.buffer)//3,2])\n",
    "plt.title(\"uV after filter\")\n",
    "plt.xlabel(\"Timepoints Before fs: \" + str(DEFAULT_FS))\n",
    "plt.ylabel(\"uV\")\n",
    "plt.ylim(-400, 400)\n",
    "plt.show()"
   ]
  },
  {
   "cell_type": "code",
   "execution_count": null,
   "metadata": {},
   "outputs": [],
   "source": [
    "# Original (dc removed)\n",
    "\n",
    "plt.plot(sampler.dc_removed_buffer[:len(sampler.buffer)//3,2])\n",
    "plt.title(\"uV before filter\")\n",
    "plt.xlabel(\"Timepoints Before fs: \" + str(DEFAULT_FS))\n",
    "plt.ylabel(\"uV\")\n",
    "plt.ylim(-400, 400)\n",
    "plt.show()"
   ]
  },
  {
   "cell_type": "markdown",
   "metadata": {},
   "source": [
    "## Load + Analyze recorded live data for offline live testing"
   ]
  },
  {
   "cell_type": "code",
   "execution_count": null,
   "metadata": {},
   "outputs": [],
   "source": [
    "sampler_raw_buffer = loadPickle(\"realtime_data/sampler_raw_buffer_small_noise.pickle\")\n",
    "sampler_buffer = loadPickle(\"realtime_data/sampler_buffer_small_noise.pickle\")"
   ]
  },
  {
   "cell_type": "code",
   "execution_count": null,
   "metadata": {},
   "outputs": [],
   "source": [
    "# Testing recorded samples with model\n",
    "%matplotlib notebook\n",
    "another_sampler = EEGSampler(live=False, model=model_t)\n",
    "sameplotter = SamePlotter(y_lim=(-400, 400))\n",
    "original_data = sampler_raw_buffer\n",
    "for i in range(len(original_data) - 1, -1, -1): \n",
    "    sample = [original_data[i, 0], original_data[i, 1], 0, 0, 0, 0, original_data[i, 2], original_data[i, 3]]\n",
    "    another_sampler.push_data_sample(sample)\n",
    "    if i % 50 == 0: \n",
    "        arr_to_plot = another_sampler.buffer #np.transpose(np.array([another_sampler.focus_average]))\n",
    "        #arr_to_plot = another_sampler.power_bin_values[:, :, 2]\n",
    "        sameplotter.plot(arr_to_plot)\n",
    "    \n",
    "    "
   ]
  },
  {
   "cell_type": "code",
   "execution_count": null,
   "metadata": {},
   "outputs": [],
   "source": [
    "# (fs, pass_type='lowpass', f_range=58, butterworth_order=8)\n",
    "\n",
    "freqs, psds = spectral.compute_spectrum(another_sampler.buffer[:len(another_sampler.buffer)//3,0], DEFAULT_FS, method='welch', avg_type='mean', nperseg=DEFAULT_FS*2)\n",
    "plt.plot(freqs[0:3*len(freqs)//5], np.log(psds[0:3*len(freqs)//5]))\n",
    "plt.title(\"PSD after filtering\")\n",
    "plt.xlabel(\"Frequency (Hz)\")\n",
    "plt.ylabel(\"Power log(uV^2 / Hz)\")\n",
    "plt.ylim(-8, 9)\n",
    "plt.show()\n",
    "\n"
   ]
  },
  {
   "cell_type": "code",
   "execution_count": null,
   "metadata": {},
   "outputs": [],
   "source": [
    "# Original\n",
    "freqs, psds = spectral.compute_spectrum(another_sampler.raw_buffer[:len(another_sampler.buffer)//3,0], DEFAULT_FS, method='welch', avg_type='mean', nperseg=DEFAULT_FS*2)\n",
    "plt.plot(freqs[0:3*len(freqs)//5], np.log(psds[0:3*len(freqs)//5]))\n",
    "plt.title(\"PSD before filtering\")\n",
    "plt.xlabel(\"Frequency (Hz)\")\n",
    "plt.ylabel(\"Power log(uV^2 / Hz)\")\n",
    "plt.ylim(-8, 9)\n",
    "plt.show()\n",
    "\n",
    "\n"
   ]
  },
  {
   "cell_type": "markdown",
   "metadata": {},
   "source": [
    "## Load pre-recorded data used for training"
   ]
  },
  {
   "cell_type": "code",
   "execution_count": null,
   "metadata": {},
   "outputs": [],
   "source": [
    "'''\n",
    "# Files that work with this notebook: \n",
    "P001/part_P001_block_S004.xdf\n",
    "P001/part_P001_block_S005.xdf\n",
    "\n",
    "'''\n",
    "foldername=\"P001\"\n",
    "filename=\"part_P001_block_S004\"\n",
    "path = \"../data/filtered_data/\"+foldername+\"/\"+filename+\".pickle\"\n",
    "loaded_data = loadPickle(path)#loadxdf(path)\n",
    "\n",
    "loaded_data = getArticleSectionData(\"response\", 0, loaded_data)\n",
    "loaded_eeg_data = loaded_data['eeg']['data']\n",
    "loaded_eeg_time = loaded_data['eeg']['time']\n",
    "df = loadData(datatype='dataframe_filtered', foldername=foldername, filename=filename)\n",
    "\n"
   ]
  },
  {
   "cell_type": "code",
   "execution_count": null,
   "metadata": {
    "scrolled": true
   },
   "outputs": [],
   "source": [
    "# Testing filtered (no ICA cleaning) data compared with actual focus\n",
    "%matplotlib notebook\n",
    "loaded_sampler = EEGSampler(live=False, model=model_t)\n",
    "sameplotter = SamePlotter(y_lim=(-400, 400))\n",
    "original_data = loaded_eeg_data[::-1]\n",
    "original_time = loaded_eeg_time[::-1]\n",
    "actual_focus = np.zeros((len(loaded_sampler.focus)))\n",
    "prev_df_time = 0\n",
    "for i in range(len(original_data) - 1, -1, -1): \n",
    "    current_time = original_time[i]\n",
    "    elem = df[(df['time'] <= current_time) & (df['time'] >= prev_df_time)]\n",
    "    if len(elem) > 0: \n",
    "        #print(len(elem))\n",
    "        elem = elem.iloc[-1]\n",
    "        actual_focus = np.roll(actual_focus, 1, 0)\n",
    "        actual_focus[0] = 1 if elem['trial_time'] <= 0.7 else 0 if elem['trial_time'] <= 0.9 else -1\n",
    "        prev_df_time = elem['time']\n",
    "    else :\n",
    "        print(\"no df\")\n",
    "    sample = [original_data[i, 0], original_data[i, 1], 0, 0, 0, 0, original_data[i, 6], original_data[i, 7]]\n",
    "    loaded_sampler.push_data_sample(sample)\n",
    "    if i % 50 == 0: \n",
    "        arr_to_plot = loaded_sampler.buffer #np.transpose(np.append([loaded_sampler.focus_average], [actual_focus], axis=0))\n",
    "        #arr_to_plot = loaded_sampler.power_bin_values[:, :, 2]\n",
    "        sameplotter.plot(arr_to_plot)\n",
    "    \n",
    "    "
   ]
  },
  {
   "cell_type": "code",
   "execution_count": null,
   "metadata": {},
   "outputs": [],
   "source": [
    "# PSD of loaded data \n",
    "\n",
    "freqs, psds = spectral.compute_spectrum(loaded_sampler.dc_removed_buffer[:len(loaded_sampler.buffer)//3,0], DEFAULT_FS, method='welch', avg_type='mean', nperseg=DEFAULT_FS*2)\n",
    "plt.plot(freqs[0//5:3*len(freqs)//5], np.log(psds[0//5:3*len(freqs)//5])) \n",
    "plt.title(\"PSD before filter\")\n",
    "plt.xlabel(\"Frequency (Hz)\")\n",
    "plt.ylabel(\"Power log(uV^2 / Hz)\")\n",
    "plt.ylim(-8, 9)\n",
    "plt.show()"
   ]
  },
  {
   "cell_type": "code",
   "execution_count": null,
   "metadata": {},
   "outputs": [],
   "source": []
  },
  {
   "cell_type": "code",
   "execution_count": null,
   "metadata": {},
   "outputs": [],
   "source": []
  }
 ],
 "metadata": {
  "kernelspec": {
   "display_name": "Python 3",
   "language": "python",
   "name": "python3"
  },
  "language_info": {
   "codemirror_mode": {
    "name": "ipython",
    "version": 3
   },
   "file_extension": ".py",
   "mimetype": "text/x-python",
   "name": "python",
   "nbconvert_exporter": "python",
   "pygments_lexer": "ipython3",
   "version": "3.6.8"
  }
 },
 "nbformat": 4,
 "nbformat_minor": 2
}
